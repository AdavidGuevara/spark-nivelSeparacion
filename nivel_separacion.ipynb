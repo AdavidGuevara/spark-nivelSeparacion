{
 "cells": [
  {
   "attachments": {},
   "cell_type": "markdown",
   "metadata": {},
   "source": [
    "# Grados de separacion de un superheroe:"
   ]
  },
  {
   "cell_type": "code",
   "execution_count": 111,
   "metadata": {},
   "outputs": [],
   "source": [
    "from pyspark import SparkConf, SparkContext"
   ]
  },
  {
   "cell_type": "code",
   "execution_count": 112,
   "metadata": {},
   "outputs": [],
   "source": [
    "conf = SparkConf().setMaster(\"local\").setAppName(\"gradosDeSeparacion\")\n",
    "sc = SparkContext.getOrCreate(conf=conf)"
   ]
  },
  {
   "cell_type": "code",
   "execution_count": 113,
   "metadata": {},
   "outputs": [],
   "source": [
    "# Definimos los heroes que deseamos analizar:\n",
    "startHeroId = 5306\n",
    "targetHeroID = 14"
   ]
  },
  {
   "cell_type": "code",
   "execution_count": 114,
   "metadata": {},
   "outputs": [],
   "source": [
    "# Preparamos el documento a analizar:\n",
    "file = sc.textFile(\"file:///home/jovyan/work/data/Marvel-graph.txt\")"
   ]
  },
  {
   "cell_type": "code",
   "execution_count": 115,
   "metadata": {},
   "outputs": [],
   "source": [
    "# Iniciamos el acumulador en cero:\n",
    "hitCounter = sc.accumulator(0) "
   ]
  },
  {
   "attachments": {},
   "cell_type": "markdown",
   "metadata": {},
   "source": [
    "A continuacion se definen las funciones que trasformaran la base de datos en un formato mas adecuado para el analisis:"
   ]
  },
  {
   "cell_type": "code",
   "execution_count": 116,
   "metadata": {},
   "outputs": [],
   "source": [
    "# Funcion para convetir las lineas del rrd en nodos bfs:\n",
    "def convertToBFS(line):\n",
    "    fields = line.split()\n",
    "    heroID = int(fields[0])\n",
    "    connections = []\n",
    "    for connection in fields[1:]:\n",
    "        connections.append(int(connection))\n",
    "\n",
    "    # Por defecto todos los nodos seran de color blanco y su distancia \"infinita\",\n",
    "    # La unica exepcion es precisamente el nodo padre.\n",
    "    color = \"WHITE\"\n",
    "    distance = 9999\n",
    "\n",
    "    if heroID == startHeroId:\n",
    "        color = \"GRAY\"\n",
    "        distance = 0\n",
    "\n",
    "    return (heroID, (connections, distance, color))"
   ]
  },
  {
   "cell_type": "code",
   "execution_count": 117,
   "metadata": {},
   "outputs": [],
   "source": [
    "# Pueden haber varias versiones de un heroe, se concatenara la lista de amigos:\n",
    "def reduceRdd(data1, data2):\n",
    "    edges1 = data1[0]\n",
    "    edges2 = data2[0]\n",
    "    distance1 = data1[1]\n",
    "    distance2 = data2[1]\n",
    "    color1 = data1[2]\n",
    "    color2 = data2[2]\n",
    "\n",
    "    edges = edges1 + edges2\n",
    "    distance = 9999\n",
    "    color = \"WHITE\"\n",
    "\n",
    "    if distance1 == 0:\n",
    "        distance = distance1\n",
    "\n",
    "    if distance2 == 0:\n",
    "        distance = distance2\n",
    "\n",
    "    # Preserve darkest color\n",
    "    if color1 == \"GRAY\":\n",
    "        color = color1\n",
    "\n",
    "    if color2 == \"GRAY\":\n",
    "        color = color2\n",
    "\n",
    "    return (edges, distance, color)"
   ]
  },
  {
   "attachments": {},
   "cell_type": "markdown",
   "metadata": {},
   "source": [
    "Ahora se crea un diccionario (como una variable broadcast) con el id del heroe y la lista de sus amigos:"
   ]
  },
  {
   "cell_type": "code",
   "execution_count": 118,
   "metadata": {},
   "outputs": [],
   "source": [
    "# Abrimos el archivo y extraemos las variables broadcast:\n",
    "def loadHeroConns():\n",
    "    heroConns = {}\n",
    "    heroList = []\n",
    "    with open(\"/home/jovyan/work/data/Marvel-graph.txt\") as file:\n",
    "        for line in file:\n",
    "            fields = line.split()\n",
    "            heroID = int(fields[0])\n",
    "            connections = []\n",
    "            for connection in fields[1:]:\n",
    "                connections.append(int(connection))\n",
    "\n",
    "            # Pueden haber varias versiones de un heroe, por lo que vamos a concatenar la lista de amigos.\n",
    "            if heroID not in heroList:\n",
    "                heroList.append(heroID)\n",
    "                heroConns[heroID] = connections\n",
    "            else:\n",
    "                heroConns[heroID] += connections\n",
    "\n",
    "    return heroConns"
   ]
  },
  {
   "cell_type": "code",
   "execution_count": 119,
   "metadata": {},
   "outputs": [],
   "source": [
    "# Cargamos la variable broadcast:\n",
    "heroConns = sc.broadcast(loadHeroConns())"
   ]
  },
  {
   "attachments": {},
   "cell_type": "markdown",
   "metadata": {},
   "source": [
    "Ahora se listaran las funciones principales para la ejecucion del programa:"
   ]
  },
  {
   "cell_type": "code",
   "execution_count": 120,
   "metadata": {},
   "outputs": [],
   "source": [
    "# Funcion que analiza el arbol de nodos que se va generando desde el nodo padre:\n",
    "def bfsMap(node):\n",
    "    characterID = node[0]\n",
    "    data = node[1]\n",
    "    connections = data[0]\n",
    "    distance = data[1]\n",
    "    color = data[2]\n",
    "\n",
    "    results = []\n",
    "\n",
    "    # Si el color es gris, entonces o es el nodo padre o un nodo hijo que esta siendo analizado:\n",
    "    if color == \"GRAY\":\n",
    "        for hero in connections:\n",
    "            newConn = heroConns.value[int(hero)]\n",
    "            newDistance = distance + 1\n",
    "            newColor = \"GRAY\"\n",
    "            if targetHeroID == hero:\n",
    "                # Guarda el numero de direcciones en donde hay una relacion entre los heroes:\n",
    "                hitCounter.add(1)\n",
    "            results.append((hero, (newConn, newDistance, newColor)))\n",
    "\n",
    "        # Cuando el nodo ya fue analizado su color pasa a ser negro:\n",
    "        color = \"BLACK\"\n",
    "\n",
    "    # Se guarda el nodo analizado:\n",
    "    results.append((characterID, (connections, distance, color)))\n",
    "    return results"
   ]
  },
  {
   "cell_type": "code",
   "execution_count": 121,
   "metadata": {},
   "outputs": [],
   "source": [
    "def bfsReduce(data1, data2):\n",
    "    edges = data1[0]\n",
    "    distance1 = data1[1]\n",
    "    distance2 = data2[1]\n",
    "    color1 = data1[2]\n",
    "    color2 = data2[2]\n",
    "    # Gracias a que agrupamos las distintas versiones de un heroe, entonces si un heroe\n",
    "    # aparece mas de una ves en la lista de resultados, la lista de sus amigos debe ser la misma.\n",
    "\n",
    "    distance = 9999\n",
    "    color = color1\n",
    "\n",
    "    # Se preserva la minima distancia\n",
    "    if distance1 < distance:\n",
    "        distance = distance1\n",
    "\n",
    "    if distance2 < distance:\n",
    "        distance = distance2\n",
    "\n",
    "    # Se preserva el color mas oscuro, lo cual puede indicar que ese heroe ya fue analizado:\n",
    "    if color1 == \"WHITE\" and (color2 == \"GRAY\" or color2 == \"BLACK\"):\n",
    "        color = color2\n",
    "\n",
    "    if color1 == \"GRAY\" and color2 == \"BLACK\":\n",
    "        color = color2\n",
    "\n",
    "    if color2 == \"WHITE\" and (color1 == \"GRAY\" or color1 == \"BLACK\"):\n",
    "        color = color1\n",
    "\n",
    "    if color2 == \"GRAY\" and color1 == \"BLACK\":\n",
    "        color = color1\n",
    "\n",
    "    return (edges, distance, color)"
   ]
  },
  {
   "attachments": {},
   "cell_type": "markdown",
   "metadata": {},
   "source": [
    "### Distancia entre los heroes:"
   ]
  },
  {
   "cell_type": "code",
   "execution_count": 122,
   "metadata": {},
   "outputs": [
    {
     "name": "stdout",
     "output_type": "stream",
     "text": [
      "RDD tiene un total de: 6589 elementos.\n",
      "RDD reducido tiene un total de: 6486 elementos.\n"
     ]
    }
   ],
   "source": [
    "# Creamos el rdd con todos los nodos de los heroes y posteriormente se reduce:\n",
    "rdd = file.map(convertToBFS)\n",
    "iterationRdd = rdd.reduceByKey(reduceRdd)\n",
    "print(f\"RDD tiene un total de: {rdd.count()} elementos.\")\n",
    "print(f\"RDD reducido tiene un total de: {iterationRdd.count()} elementos.\")"
   ]
  },
  {
   "cell_type": "code",
   "execution_count": 123,
   "metadata": {},
   "outputs": [
    {
     "name": "stdout",
     "output_type": "stream",
     "text": [
      "Iteracion 1: Procesando 8227 elementos.\n",
      "Iteracion 2: Procesando 220615 elementos.\n",
      "\n",
      "Distancia entre los heroes 1.\n"
     ]
    }
   ],
   "source": [
    "# Hacemos las iteraciones:\n",
    "maxIter = 25\n",
    "for iteration in range(0, maxIter):\n",
    "    # Creacion del arbol de nodos:\n",
    "    mapped = iterationRdd.flatMap(bfsMap)\n",
    "    print(f\"Iteracion {iteration + 1}: Procesando {mapped.count()} elementos.\")\n",
    "    \n",
    "    if (hitCounter.value > 0):\n",
    "        print(f\"\\nDistancia entre los heroes: {iteration}.\")\n",
    "        break\n",
    "    \n",
    "    if hitCounter.value == 0 and iteration == maxIter - 1:\n",
    "        print(\"Los heroes escogidos no tienen ningun tipo de contacto.\")\n",
    "\n",
    "    # Reducir los datos por heroe, presevando los que ya fueron analisados:\n",
    "    iterationRdd = mapped.reduceByKey(bfsReduce)"
   ]
  },
  {
   "attachments": {},
   "cell_type": "markdown",
   "metadata": {},
   "source": [
    "En esta oportunidad el nivel de separacion se toma como la capa que separa los heroes escogidos. Por ejemplo, si el nivel de separacion es cero, entonces los heroes son amigos y tienen contacto directo."
   ]
  },
  {
   "cell_type": "code",
   "execution_count": null,
   "metadata": {},
   "outputs": [],
   "source": []
  }
 ],
 "metadata": {
  "kernelspec": {
   "display_name": "Python 3 (ipykernel)",
   "language": "python",
   "name": "python3"
  },
  "language_info": {
   "codemirror_mode": {
    "name": "ipython",
    "version": 3
   },
   "file_extension": ".py",
   "mimetype": "text/x-python",
   "name": "python",
   "nbconvert_exporter": "python",
   "pygments_lexer": "ipython3",
   "version": "3.11.4"
  },
  "orig_nbformat": 4
 },
 "nbformat": 4,
 "nbformat_minor": 2
}
